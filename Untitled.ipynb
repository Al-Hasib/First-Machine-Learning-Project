{
 "cells": [
  {
   "cell_type": "code",
   "execution_count": 1,
   "metadata": {},
   "outputs": [],
   "source": [
    "import tensorflow as tf"
   ]
  },
  {
   "cell_type": "code",
   "execution_count": 25,
   "metadata": {},
   "outputs": [],
   "source": [
    "a = tf.constant(5)\n",
    "b = tf.constant(3)\n",
    "c = tf.constant(2)"
   ]
  },
  {
   "cell_type": "code",
   "execution_count": 27,
   "metadata": {},
   "outputs": [
    {
     "name": "stdout",
     "output_type": "stream",
     "text": [
      "15\n",
      "5\n",
      "3\n"
     ]
    }
   ],
   "source": [
    "d = tf.multiply(b,a)\n",
    "e = tf.add(c,b)\n",
    "f = tf.subtract(a,c)\n",
    "sess = tf.compat.v1.Session()\n",
    "with sess:\n",
    "    print(sess.run(d))\n",
    "    print(sess.run(e))\n",
    "    print(sess.run(f))"
   ]
  },
  {
   "cell_type": "code",
   "execution_count": 9,
   "metadata": {},
   "outputs": [],
   "source": [
    "tf.compat.v1.disable_eager_execution()\n",
    "sess = tf.compat.v1.Session()"
   ]
  },
  {
   "cell_type": "code",
   "execution_count": 23,
   "metadata": {},
   "outputs": [
    {
     "name": "stdout",
     "output_type": "stream",
     "text": [
      "15\n"
     ]
    }
   ],
   "source": [
    "a = tf.constant(4)\n",
    "b = tf.constant(3)\n",
    "c = tf.constant(5)\n",
    "d = tf.multiply(b,c)\n",
    "sess = tf.compat.v1.Session()\n",
    "with sess:\n",
    "    print(sess.run(d))"
   ]
  },
  {
   "cell_type": "code",
   "execution_count": 32,
   "metadata": {},
   "outputs": [
    {
     "name": "stdout",
     "output_type": "stream",
     "text": [
      "[ 5. 27. 48.]\n"
     ]
    }
   ],
   "source": [
    "a = tf.placeholder(tf.float32)\n",
    "b = tf.placeholder(tf.float32)\n",
    "add = tf.add(a,b)\n",
    "sess = tf.compat.v1.Session()\n",
    "with sess:\n",
    "    print(sess.run(add,{a:[2,4,3],b:[3,23,45]}))"
   ]
  },
  {
   "cell_type": "code",
   "execution_count": 50,
   "metadata": {},
   "outputs": [
    {
     "name": "stdout",
     "output_type": "stream",
     "text": [
      "[array([0.27599955], dtype=float32), array([-0.38499868], dtype=float32)]\n"
     ]
    }
   ],
   "source": [
    "w = tf.Variable([.3],tf.float32)\n",
    "b = tf.Variable([-.34],tf.float32)\n",
    "x = tf.placeholder(tf.float32)\n",
    "linear = w*x + b\n",
    "init = tf.global_variables_initializer()\n",
    "y = tf.placeholder(tf.float32)\n",
    "square = tf.square(linear-y)\n",
    "loss = tf.reduce_sum(square)\n",
    "optimizer = tf.train.GradientDescentOptimizer(0.01)\n",
    "train = optimizer.minimize(loss)\n",
    "sess = tf.compat.v1.Session()\n",
    "with sess:\n",
    "    sess.run(init)\n",
    "    for i in range(1000):\n",
    "        sess.run(train,{x:[1,2,3,4],y:[-.2,.3,.45,.67]})\n",
    "    print(sess.run([w,b]))"
   ]
  },
  {
   "cell_type": "code",
   "execution_count": null,
   "metadata": {},
   "outputs": [],
   "source": []
  }
 ],
 "metadata": {
  "kernelspec": {
   "display_name": "Python 3",
   "language": "python",
   "name": "python3"
  },
  "language_info": {
   "codemirror_mode": {
    "name": "ipython",
    "version": 3
   },
   "file_extension": ".py",
   "mimetype": "text/x-python",
   "name": "python",
   "nbconvert_exporter": "python",
   "pygments_lexer": "ipython3",
   "version": "3.7.9"
  }
 },
 "nbformat": 4,
 "nbformat_minor": 2
}
